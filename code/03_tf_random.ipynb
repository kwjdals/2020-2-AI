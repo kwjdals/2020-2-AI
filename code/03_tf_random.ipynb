{
  "nbformat": 4,
  "nbformat_minor": 0,
  "metadata": {
    "colab": {
      "name": "03_tf_random.ipynb",
      "provenance": [],
      "collapsed_sections": [],
      "authorship_tag": "ABX9TyNOZDWic8kSyzRZpEdE4vUa",
      "include_colab_link": true
    },
    "kernelspec": {
      "name": "python3",
      "display_name": "Python 3"
    }
  },
  "cells": [
    {
      "cell_type": "markdown",
      "metadata": {
        "id": "view-in-github",
        "colab_type": "text"
      },
      "source": [
        "<a href=\"https://colab.research.google.com/github/kwjdals/2020-2-AI/blob/master/code/03_tf_random.ipynb\" target=\"_parent\"><img src=\"https://colab.research.google.com/assets/colab-badge.svg\" alt=\"Open In Colab\"/></a>"
      ]
    },
    {
      "cell_type": "code",
      "metadata": {
        "id": "E5GWJIolvLA0",
        "outputId": "bedfaab5-4a59-4580-8511-5f861d913ac3",
        "colab": {
          "base_uri": "https://localhost:8080/",
          "height": 35
        }
      },
      "source": [
        "import tensorflow as tf\n",
        "tf. __version__"
      ],
      "execution_count": 2,
      "outputs": [
        {
          "output_type": "execute_result",
          "data": {
            "application/vnd.google.colaboratory.intrinsic+json": {
              "type": "string"
            },
            "text/plain": [
              "'2.3.0'"
            ]
          },
          "metadata": {
            "tags": []
          },
          "execution_count": 2
        }
      ]
    },
    {
      "cell_type": "code",
      "metadata": {
        "id": "Y0ukzzsPvbWG",
        "outputId": "593099c6-9c9a-41d3-d940-740a8cab3021",
        "colab": {
          "base_uri": "https://localhost:8080/",
          "height": 35
        }
      },
      "source": [
        "rand = tf.random.uniform([1],0,1)\n",
        "print(rand)"
      ],
      "execution_count": 3,
      "outputs": [
        {
          "output_type": "stream",
          "text": [
            "tf.Tensor([0.41064548], shape=(1,), dtype=float32)\n"
          ],
          "name": "stdout"
        }
      ]
    },
    {
      "cell_type": "code",
      "metadata": {
        "id": "ardBjGdiwCJ_",
        "outputId": "517547a6-455e-44a4-f30d-52473dd9f0ba",
        "colab": {
          "base_uri": "https://localhost:8080/",
          "height": 125
        }
      },
      "source": [
        "rand = tf.random.uniform([5,4],0,1)\n",
        "print(rand)"
      ],
      "execution_count": 4,
      "outputs": [
        {
          "output_type": "stream",
          "text": [
            "tf.Tensor(\n",
            "[[0.73042774 0.2623924  0.01818657 0.37071538]\n",
            " [0.9199281  0.5392997  0.5418309  0.94332993]\n",
            " [0.03378308 0.02084589 0.37139714 0.6308563 ]\n",
            " [0.16805148 0.976207   0.60190165 0.16508603]\n",
            " [0.4419663  0.2149359  0.03398192 0.12546861]], shape=(5, 4), dtype=float32)\n"
          ],
          "name": "stdout"
        }
      ]
    },
    {
      "cell_type": "code",
      "metadata": {
        "id": "jsCHWnAdwP6W",
        "outputId": "9d479d9e-90e5-4392-dd70-7b3231d23460",
        "colab": {
          "base_uri": "https://localhost:8080/",
          "height": 71
        }
      },
      "source": [
        "rand = tf.random.uniform([1000],0,10)\n",
        "print(rand[:10])"
      ],
      "execution_count": 5,
      "outputs": [
        {
          "output_type": "stream",
          "text": [
            "tf.Tensor(\n",
            "[9.111648   8.614034   1.7704058  5.926632   6.7035127  2.775972\n",
            " 5.9869566  9.556718   0.30231833 8.06286   ], shape=(10,), dtype=float32)\n"
          ],
          "name": "stdout"
        }
      ]
    },
    {
      "cell_type": "code",
      "metadata": {
        "id": "HW-KQuFJwaIg",
        "outputId": "a99ef556-2898-43fb-ea79-bf4e691a5250",
        "colab": {
          "base_uri": "https://localhost:8080/",
          "height": 373
        }
      },
      "source": [
        "import matplotlib.pyplot as plt\n",
        "rand = tf.random.uniform([10000],0,50)\n",
        "plt.hist(rand,bins=10)"
      ],
      "execution_count": 6,
      "outputs": [
        {
          "output_type": "execute_result",
          "data": {
            "text/plain": [
              "(array([ 991.,  940.,  992., 1030., 1024.,  996.,  991., 1064.,  968.,\n",
              "        1004.]),\n",
              " array([1.6617775e-02, 5.0143504e+00, 1.0012083e+01, 1.5009815e+01,\n",
              "        2.0007547e+01, 2.5005280e+01, 3.0003012e+01, 3.5000744e+01,\n",
              "        3.9998478e+01, 4.4996208e+01, 4.9993942e+01], dtype=float32),\n",
              " <a list of 10 Patch objects>)"
            ]
          },
          "metadata": {
            "tags": []
          },
          "execution_count": 6
        },
        {
          "output_type": "display_data",
          "data": {
            "image/png": "[encoded data removed]",
            "text/plain": [
              "<Figure size 432x288 with 1 Axes>"
            ]
          },
          "metadata": {
            "tags": [],
            "needs_background": "light"
          }
        }
      ]
    },
    {
      "cell_type": "code",
      "metadata": {
        "id": "39WFbc_nwauC",
        "outputId": "33053f1b-8e14-4bda-cc53-f512f6a7664c",
        "colab": {
          "base_uri": "https://localhost:8080/",
          "height": 35
        }
      },
      "source": [
        "rand = tf.random.normal([4],0,1)\n",
        "print(rand)"
      ],
      "execution_count": 7,
      "outputs": [
        {
          "output_type": "stream",
          "text": [
            "tf.Tensor([ 0.26547763 -0.96218616 -0.72570914 -0.04279992], shape=(4,), dtype=float32)\n"
          ],
          "name": "stdout"
        }
      ]
    },
    {
      "cell_type": "code",
      "metadata": {
        "id": "Q0MBhPl2SLBo",
        "outputId": "ba50003b-39d2-466d-cc48-642bc06f64bf",
        "colab": {
          "base_uri": "https://localhost:8080/",
          "height": 71
        }
      },
      "source": [
        "rand = tf.random.normal([2,4],0,2)\n",
        "print(rand)"
      ],
      "execution_count": 8,
      "outputs": [
        {
          "output_type": "stream",
          "text": [
            "tf.Tensor(\n",
            "[[ 1.5558603  -0.17598835 -5.6413927   0.7256593 ]\n",
            " [ 0.31271967  0.44362885  1.046755   -0.8041987 ]], shape=(2, 4), dtype=float32)\n"
          ],
          "name": "stdout"
        }
      ]
    },
    {
      "cell_type": "code",
      "metadata": {
        "id": "WQIKJdC9SK_F",
        "outputId": "2d308f97-4858-4b96-c82e-edabe8dd8483",
        "colab": {
          "base_uri": "https://localhost:8080/",
          "height": 358
        }
      },
      "source": [
        "import matplotlib.pyplot as plt\n",
        "rand = tf.random.normal([100],0,1)\n",
        "plt.hist(rand,bins=10)"
      ],
      "execution_count": 9,
      "outputs": [
        {
          "output_type": "execute_result",
          "data": {
            "text/plain": [
              "(array([ 2.,  0.,  2., 12., 18., 17., 24., 13.,  4.,  8.]),\n",
              " array([-3.3287468 , -2.7523215 , -2.1758962 , -1.599471  , -1.0230457 ,\n",
              "        -0.44662035,  0.12980494,  0.7062302 ,  1.2826555 ,  1.8590808 ,\n",
              "         2.435506  ], dtype=float32),\n",
              " <a list of 10 Patch objects>)"
            ]
          },
          "metadata": {
            "tags": []
          },
          "execution_count": 9
        },
        {
          "output_type": "display_data",
          "data": {
            "image/png": "[encoded data removed]",
            "text/plain": [
              "<Figure size 432x288 with 1 Axes>"
            ]
          },
          "metadata": {
            "tags": [],
            "needs_background": "light"
          }
        }
      ]
    },
    {
      "cell_type": "code",
      "metadata": {
        "id": "85p8_-YaSK8a",
        "outputId": "e27c64fd-a7b1-426f-98bf-664992a234a4",
        "colab": {
          "base_uri": "https://localhost:8080/",
          "height": 895
        }
      },
      "source": [
        "import matplotlib.pyplot as plt\n",
        "rand1 = tf.random.normal([1000],0,1)\n",
        "rand2 = tf.random.uniform([2000],0,1)\n",
        "plt.hist(rand1,bins=100)\n",
        "plt.hist(rand2,bins=100)"
      ],
      "execution_count": 10,
      "outputs": [
        {
          "output_type": "execute_result",
          "data": {
            "text/plain": [
              "(array([11., 27., 20., 26., 19., 20., 22., 17., 26., 18., 23., 17., 12.,\n",
              "        21., 24., 22., 22., 14., 14., 15., 21., 18., 24., 17., 20., 19.,\n",
              "        23., 19., 18., 24., 17., 29., 12., 17., 22., 13., 16., 18., 17.,\n",
              "        24., 19., 24., 17., 13., 19., 16., 18., 31., 17., 21., 17., 21.,\n",
              "        21., 10., 18., 30., 19., 20., 20., 15., 14., 17., 25., 22., 19.,\n",
              "        19., 23., 22., 21., 30., 20., 19., 12., 19., 17., 21., 22., 16.,\n",
              "        23., 32., 18., 21., 20., 24., 20., 21., 16., 22., 19., 30., 23.,\n",
              "        27., 19., 15., 20., 23., 22., 28., 18., 17.]),\n",
              " array([3.08632851e-04, 1.02966074e-02, 2.02845819e-02, 3.02725546e-02,\n",
              "        4.02605310e-02, 5.02485037e-02, 6.02364764e-02, 7.02244490e-02,\n",
              "        8.02124292e-02, 9.02004018e-02, 1.00188375e-01, 1.10176347e-01,\n",
              "        1.20164320e-01, 1.30152300e-01, 1.40140265e-01, 1.50128245e-01,\n",
              "        1.60116225e-01, 1.70104191e-01, 1.80092171e-01, 1.90080136e-01,\n",
              "        2.00068116e-01, 2.10056096e-01, 2.20044062e-01, 2.30032042e-01,\n",
              "        2.40020007e-01, 2.50007987e-01, 2.59995967e-01, 2.69983947e-01,\n",
              "        2.79971898e-01, 2.89959878e-01, 2.99947858e-01, 3.09935838e-01,\n",
              "        3.19923818e-01, 3.29911768e-01, 3.39899749e-01, 3.49887729e-01,\n",
              "        3.59875709e-01, 3.69863689e-01, 3.79851639e-01, 3.89839619e-01,\n",
              "        3.99827600e-01, 4.09815580e-01, 4.19803560e-01, 4.29791510e-01,\n",
              "        4.39779490e-01, 4.49767470e-01, 4.59755450e-01, 4.69743431e-01,\n",
              "        4.79731381e-01, 4.89719361e-01, 4.99707341e-01, 5.09695292e-01,\n",
              "        5.19683301e-01, 5.29671252e-01, 5.39659262e-01, 5.49647212e-01,\n",
              "        5.59635162e-01, 5.69623172e-01, 5.79611123e-01, 5.89599133e-01,\n",
              "        5.99587083e-01, 6.09575033e-01, 6.19563043e-01, 6.29550993e-01,\n",
              "        6.39539003e-01, 6.49526954e-01, 6.59514904e-01, 6.69502914e-01,\n",
              "        6.79490864e-01, 6.89478874e-01, 6.99466825e-01, 7.09454775e-01,\n",
              "        7.19442785e-01, 7.29430735e-01, 7.39418745e-01, 7.49406695e-01,\n",
              "        7.59394646e-01, 7.69382656e-01, 7.79370606e-01, 7.89358616e-01,\n",
              "        7.99346566e-01, 8.09334517e-01, 8.19322526e-01, 8.29310477e-01,\n",
              "        8.39298487e-01, 8.49286437e-01, 8.59274387e-01, 8.69262397e-01,\n",
              "        8.79250348e-01, 8.89238358e-01, 8.99226308e-01, 9.09214258e-01,\n",
              "        9.19202268e-01, 9.29190218e-01, 9.39178228e-01, 9.49166179e-01,\n",
              "        9.59154129e-01, 9.69142139e-01, 9.79130089e-01, 9.89118099e-01,\n",
              "        9.99106050e-01], dtype=float32),\n",
              " <a list of 100 Patch objects>)"
            ]
          },
          "metadata": {
            "tags": []
          },
          "execution_count": 10
        },
        {
          "output_type": "display_data",
          "data": {
            "image/png": "[encoded data removed]",
            "text/plain": [
              "<Figure size 432x288 with 1 Axes>"
            ]
          },
          "metadata": {
            "tags": [],
            "needs_background": "light"
          }
        }
      ]
    },
    {
      "cell_type": "code",
      "metadata": {
        "id": "iyu0ZDplSK5n",
        "outputId": "b2bd6ac7-e118-4e9d-8adf-941ad4aac4ae",
        "colab": {
          "base_uri": "https://localhost:8080/",
          "height": 1000
        }
      },
      "source": [
        "import matplotlib.pyplot as plt\n",
        "rand1 = tf.random.normal([1000],0,1)\n",
        "rand2 = tf.random.uniform([2000],0,1)\n",
        "\n",
        "plt.rcParams[\"figure.figsize\"] = (12,6)\n",
        "fig, axes = plt.subplots(1,2, sharex=True, sharey=True)\n",
        "axes[0].hist(rand1,bins=100)\n",
        "axes[1].hist(rand2,bins=100)\n"
      ],
      "execution_count": 11,
      "outputs": [
        {
          "output_type": "execute_result",
          "data": {
            "text/plain": [
              "(array([21., 21., 18., 14., 25., 25., 17., 25., 24., 18., 21., 22., 28.,\n",
              "        21., 21., 16., 16., 24., 29., 19., 19., 20., 16., 26., 20., 17.,\n",
              "        22., 12., 21., 28., 18., 15., 21., 11., 18., 24., 13., 15., 18.,\n",
              "        19., 22., 26., 18., 13., 17., 27., 15., 12., 14., 20., 16., 18.,\n",
              "        17., 18., 32., 26., 18., 21., 26., 24., 22., 23., 21., 15., 15.,\n",
              "        24., 26., 24., 22., 15., 19., 23., 19., 23., 24., 16., 23., 19.,\n",
              "        17., 19., 18., 22., 12., 18., 22., 22., 14., 18., 27., 18., 20.,\n",
              "        19., 13., 11., 25., 20., 20., 23., 23., 28.]),\n",
              " array([1.10507011e-04, 1.00959195e-02, 2.00813320e-02, 3.00667435e-02,\n",
              "        4.00521569e-02, 5.00375703e-02, 6.00229800e-02, 7.00083971e-02,\n",
              "        7.99938068e-02, 8.99792165e-02, 9.99646336e-02, 1.09950043e-01,\n",
              "        1.19935453e-01, 1.29920870e-01, 1.39906287e-01, 1.49891689e-01,\n",
              "        1.59877107e-01, 1.69862524e-01, 1.79847926e-01, 1.89833343e-01,\n",
              "        1.99818760e-01, 2.09804162e-01, 2.19789580e-01, 2.29774997e-01,\n",
              "        2.39760399e-01, 2.49745816e-01, 2.59731233e-01, 2.69716650e-01,\n",
              "        2.79702067e-01, 2.89687455e-01, 2.99672872e-01, 3.09658289e-01,\n",
              "        3.19643706e-01, 3.29629123e-01, 3.39614540e-01, 3.49599928e-01,\n",
              "        3.59585345e-01, 3.69570762e-01, 3.79556179e-01, 3.89541596e-01,\n",
              "        3.99527013e-01, 4.09512401e-01, 4.19497818e-01, 4.29483235e-01,\n",
              "        4.39468652e-01, 4.49454069e-01, 4.59439486e-01, 4.69424874e-01,\n",
              "        4.79410291e-01, 4.89395708e-01, 4.99381125e-01, 5.09366512e-01,\n",
              "        5.19351959e-01, 5.29337347e-01, 5.39322793e-01, 5.49308181e-01,\n",
              "        5.59293628e-01, 5.69279015e-01, 5.79264402e-01, 5.89249849e-01,\n",
              "        5.99235237e-01, 6.09220684e-01, 6.19206071e-01, 6.29191458e-01,\n",
              "        6.39176905e-01, 6.49162292e-01, 6.59147739e-01, 6.69133127e-01,\n",
              "        6.79118574e-01, 6.89103961e-01, 6.99089348e-01, 7.09074795e-01,\n",
              "        7.19060183e-01, 7.29045630e-01, 7.39031017e-01, 7.49016464e-01,\n",
              "        7.59001851e-01, 7.68987238e-01, 7.78972685e-01, 7.88958073e-01,\n",
              "        7.98943520e-01, 8.08928907e-01, 8.18914294e-01, 8.28899741e-01,\n",
              "        8.38885128e-01, 8.48870575e-01, 8.58855963e-01, 8.68841410e-01,\n",
              "        8.78826797e-01, 8.88812184e-01, 8.98797631e-01, 9.08783019e-01,\n",
              "        9.18768466e-01, 9.28753853e-01, 9.38739240e-01, 9.48724687e-01,\n",
              "        9.58710074e-01, 9.68695521e-01, 9.78680909e-01, 9.88666356e-01,\n",
              "        9.98651743e-01], dtype=float32),\n",
              " <a list of 100 Patch objects>)"
            ]
          },
          "metadata": {
            "tags": []
          },
          "execution_count": 11
        },
        {
          "output_type": "display_data",
          "data": {
            "image/png": "[encoded data removed]",
            "text/plain": [
              "<Figure size 864x432 with 2 Axes>"
            ]
          },
          "metadata": {
            "tags": [],
            "needs_background": "light"
          }
        }
      ]
    },
    {
      "cell_type": "code",
      "metadata": {
        "id": "0_dEyTKDSK2y",
        "outputId": "fbcd29a5-8f55-475d-e415-d2bb3ab02969",
        "colab": {
          "base_uri": "https://localhost:8080/",
          "height": 53
        }
      },
      "source": [
        "import numpy as np\n",
        "a = np.arange(10)\n",
        "print(a)\n",
        "tf.random.shuffle(a)"
      ],
      "execution_count": 12,
      "outputs": [
        {
          "output_type": "stream",
          "text": [
            "[0 1 2 3 4 5 6 7 8 9]\n"
          ],
          "name": "stdout"
        },
        {
          "output_type": "execute_result",
          "data": {
            "text/plain": [
              "<tf.Tensor: shape=(10,), dtype=int64, numpy=array([0, 9, 6, 5, 3, 2, 4, 1, 7, 8])>"
            ]
          },
          "metadata": {
            "tags": []
          },
          "execution_count": 12
        }
      ]
    },
    {
      "cell_type": "code",
      "metadata": {
        "id": "CDrGD5YaSK0H",
        "outputId": "0a52b17e-c89a-4fec-8b45-f8cdf5699a11",
        "colab": {
          "base_uri": "https://localhost:8080/",
          "height": 89
        }
      },
      "source": [
        "import numpy as np\n",
        "a = np.arange(20).reshape(4,5)\n",
        "a"
      ],
      "execution_count": 13,
      "outputs": [
        {
          "output_type": "execute_result",
          "data": {
            "text/plain": [
              "array([[ 0,  1,  2,  3,  4],\n",
              "       [ 5,  6,  7,  8,  9],\n",
              "       [10, 11, 12, 13, 14],\n",
              "       [15, 16, 17, 18, 19]])"
            ]
          },
          "metadata": {
            "tags": []
          },
          "execution_count": 13
        }
      ]
    },
    {
      "cell_type": "code",
      "metadata": {
        "id": "4GdZwfUjSKxp",
        "outputId": "6ee140a1-8211-4970-e362-6ccc0ee6a42b",
        "colab": {
          "base_uri": "https://localhost:8080/",
          "height": 107
        }
      },
      "source": [
        "tf.random.shuffle(a)"
      ],
      "execution_count": 15,
      "outputs": [
        {
          "output_type": "execute_result",
          "data": {
            "text/plain": [
              "<tf.Tensor: shape=(4, 5), dtype=int64, numpy=\n",
              "array([[ 5,  6,  7,  8,  9],\n",
              "       [ 0,  1,  2,  3,  4],\n",
              "       [15, 16, 17, 18, 19],\n",
              "       [10, 11, 12, 13, 14]])>"
            ]
          },
          "metadata": {
            "tags": []
          },
          "execution_count": 15
        }
      ]
    }
  ]
}